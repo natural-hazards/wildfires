{
 "cells": [
  {
   "cell_type": "markdown",
   "metadata": {},
   "source": [
    "# Installation guidelines\n",
    "-----------------------------------"
   ]
  },
  {
   "cell_type": "markdown",
   "metadata": {},
   "source": [
    "There are many ways to prepare and set up your workspace. We mostly prefer to create an anaconda environment and install all packages there. You can find many distributions (say, forks) of the Anaconda package manager. The most well-known are \n",
    "\n",
    "* [**Anaconda**](https://www.anaconda.com)\n",
    "* [**Miniconda**](https://docs.conda.io/en/latest/miniconda.htm)\n",
    "\n",
    "We think, there are some advantages to using these package managers. They are cross-platform and very nice for handling virtual environments, not only for Python. They also support C or C++ libraries, Rust, and libraries and modules written in other popular programming languages. \n",
    "\n",
    "Feel free to use [**mamba**](https://mamba.readthedocs.io/en/latest/index.html) - formerly a fork of the Anaconda project. There are no disadvantages to using mamba instead of conda. However, please consider that mamba is a relatively new project (started in 2019). Thus, check [troubleshooting page](https://mamba.readthedocs.io/en/latest/user_guide/troubleshooting.html) or [issues](https://github.com/mamba-org/mamba/issues) on GitHub before you decide to use it.\n",
    "\n",
    "Since we have more experiences with conda, the following tutorial is only for using this package manager."
   ]
  },
  {
   "cell_type": "markdown",
   "metadata": {},
   "source": [
    "## Creating conda environment"
   ]
  },
  {
   "cell_type": "markdown",
   "metadata": {},
   "source": [
    "Using binaries on the Anaconda or miniconda pages, please install the package manager on your computer. The module mlfire works fine with all versions of Python 3, there are no limitations (or we do not know about them). However, we highly recommend using one of the latest versions of Python, beginning from 3.9 to 3.11."
   ]
  },
  {
   "cell_type": "markdown",
   "metadata": {},
   "source": [
    "After the installation, clone this repo using git that supports LFS (Large File Storage) extension because images (mostly GeoTIFFs) are compressed using it. You can find some information about LFS and its installation on the page https://git-lfs.com. **Recall for Windows users, the LFS extension is included in the Windows distribution of Git.**"
   ]
  },
  {
   "cell_type": "markdown",
   "metadata": {},
   "source": [
    "You can create an environment by running the box below or by your way in a terminal."
   ]
  },
  {
   "cell_type": "code",
   "execution_count": null,
   "metadata": {},
   "outputs": [],
   "source": [
    "!conda create -n env-mlfire python=3.9 --yes"
   ]
  },
  {
   "cell_type": "markdown",
   "metadata": {},
   "source": [
    "Don't forget to activate the environment and, then, install the required packages as follows:"
   ]
  },
  {
   "cell_type": "code",
   "execution_count": null,
   "metadata": {},
   "outputs": [],
   "source": [
    "!conda activate env-mlfire\n",
    "!conda install -c conda-forge --file ../requirements.txt --yes"
   ]
  },
  {
   "cell_type": "markdown",
   "metadata": {},
   "source": [
    "**That's all folks. Your environment is ready to fun.**"
   ]
  },
  {
   "cell_type": "markdown",
   "metadata": {},
   "source": [
    "## Running pipelines"
   ]
  },
  {
   "cell_type": "markdown",
   "metadata": {},
   "source": [
    "We did some examples in the jupyter notebooks, see here"
   ]
  },
  {
   "cell_type": "code",
   "execution_count": null,
   "metadata": {},
   "outputs": [],
   "source": [
    "!ls ."
   ]
  },
  {
   "cell_type": "markdown",
   "metadata": {},
   "source": [
    "We also draw up examples of end-to-end pipelines in the following folder:"
   ]
  },
  {
   "cell_type": "code",
   "execution_count": null,
   "metadata": {},
   "outputs": [],
   "source": [
    "!ls ../pipelines"
   ]
  },
  {
   "cell_type": "markdown",
   "metadata": {},
   "source": [
    "You can try a pipeline implemented in **pipeline_xgboost_modis_2004_2005.py** out by running a command in a box below"
   ]
  },
  {
   "cell_type": "markdown",
   "metadata": {},
   "source": [
    "### For Linux and macOS users"
   ]
  },
  {
   "cell_type": "code",
   "execution_count": 1,
   "metadata": {},
   "outputs": [
    {
     "name": "stdout",
     "output_type": "stream",
     "text": [
      "Start event: 'processing timestamps (reflectance)'.\n",
      "Finnish event: 'processing timestamps (reflectance)'. It takes 0.05s.\n",
      "Data set start date 2004-01-01\n",
      "Data set end date 2005-12-27\n",
      "Start event: 'processing timestamps (reflectance)'.\n",
      "Finnish event: 'processing timestamps (reflectance)'. It takes 0.04s.\n",
      "Start event: 'processing layout of layers (reflectance)'.\n",
      "Finnish event: 'processing layout of layers (reflectance)'. It takes 0.01s.\n",
      "Start event: 'loading satellite data (reflectance)'.\n",
      "Start event: 'loading data from img #0'.\n",
      "Finnish event: 'loading data from img #0'. It takes 0.60s.\n",
      "Start event: 'loading data from img #1'.\n",
      "Finnish event: 'loading data from img #1'. It takes 0.61s.\n",
      "Finnish event: 'loading satellite data (reflectance)'. It takes 1.50s.\n",
      "Start event: 'processing timestamps (mtbs fire maps)'.\n",
      "Finnish event: 'processing timestamps (mtbs fire maps)'. It takes 0.00s.\n",
      "Start event: 'processing layout of layers (mtbs fire maps)'.\n",
      "Finnish event: 'processing layout of layers (mtbs fire maps)'. It takes 0.00s.\n",
      "Start event: 'standardize (z-score)'.\n",
      "Finnish event: 'standardize (z-score)'. It takes 1.63s.\n",
      "Start event: 'standardize (z-score)'.\n",
      "Finnish event: 'standardize (z-score)'. It takes 0.44s.\n",
      "Start event: 'fitting PCA'.\n",
      "PCA, found 26 latent factors using cumulative explained variance\n",
      "PCA, found 29 latent factors using cumulative explained variance\n",
      "PCA, found 25 latent factors using cumulative explained variance\n",
      "PCA, found 26 latent factors using cumulative explained variance\n",
      "PCA, found 33 latent factors using cumulative explained variance\n",
      "PCA, found 35 latent factors using cumulative explained variance\n",
      "PCA, found 33 latent factors using cumulative explained variance\n",
      "PCA, found 12 latent factors using cumulative explained variance\n",
      "Finnish event: 'fitting PCA'. It takes 2.99s.\n",
      "Start event: 'dimensionality reduction (PCA, data set #0)'.\n",
      "Finnish event: 'dimensionality reduction (PCA, data set #0)'. It takes 0.32s.\n",
      "Start event: 'dimensionality reduction (PCA, data set #1)'.\n",
      "Finnish event: 'dimensionality reduction (PCA, data set #1)'. It takes 0.36s.\n",
      "Start event: 'Training XGBoost model'.\n",
      "Finnish event: 'Training XGBoost model'. It takes 30.06s.\n",
      "\n",
      "============================\n",
      "Inference on a train data set\n",
      "\n",
      "Classification report:\n",
      "\n",
      "              precision    recall  f1-score   support\n",
      "\n",
      "         0.0       0.98      0.98      0.98     29444\n",
      "         1.0       0.89      0.91      0.90      5585\n",
      "\n",
      "    accuracy                           0.97     35029\n",
      "   macro avg       0.94      0.94      0.94     35029\n",
      "weighted avg       0.97      0.97      0.97     35029\n",
      "\n",
      "\n",
      "Classification report (imbalanced):\n",
      "\n",
      "                   pre       rec       spe        f1       geo       iba       sup\n",
      "\n",
      "        0.0       0.98      0.98      0.91      0.98      0.94      0.90     29444\n",
      "        1.0       0.89      0.91      0.98      0.90      0.94      0.89      5585\n",
      "\n",
      "avg / total       0.97      0.97      0.92      0.97      0.94      0.90     35029\n",
      "\n",
      "\n",
      "IoU- (intersection over union): 0.96\n",
      "\n",
      "IoU+ (intersection over union): 0.82\n",
      "\n",
      "mIoU (mean IoU): 0.89\n",
      "\n",
      "============================\n",
      "Inference on a test data set\n",
      "\n",
      "Classification report:\n",
      "\n",
      "              precision    recall  f1-score   support\n",
      "\n",
      "         0.0       0.98      1.00      0.99     17223\n",
      "         1.0       0.89      0.60      0.72       717\n",
      "\n",
      "    accuracy                           0.98     17940\n",
      "   macro avg       0.94      0.80      0.85     17940\n",
      "weighted avg       0.98      0.98      0.98     17940\n",
      "\n",
      "\n",
      "Classification report (imbalanced):\n",
      "\n",
      "                   pre       rec       spe        f1       geo       iba       sup\n",
      "\n",
      "        0.0       0.98      1.00      0.60      0.99      0.78      0.62     17223\n",
      "        1.0       0.89      0.60      1.00      0.72      0.78      0.58       717\n",
      "\n",
      "avg / total       0.98      0.98      0.62      0.98      0.78      0.62     17940\n",
      "\n",
      "\n",
      "IoU- (intersection over union): 0.98\n",
      "\n",
      "IoU+ (intersection over union): 0.56\n",
      "\n",
      "mIoU (mean IoU): 0.77\n"
     ]
    }
   ],
   "source": [
    "!PYTHONPATH=..:$PYTHONPATH python ../pipelines/pipeline_xgboost_modis_2004_2005.py --img_dir=../data/tifs"
   ]
  },
  {
   "cell_type": "markdown",
   "metadata": {},
   "source": [
    "### For Windows users"
   ]
  },
  {
   "cell_type": "code",
   "execution_count": null,
   "metadata": {},
   "outputs": [],
   "source": [
    "!Powershell.exe -Command \"$env:PYTHONPATH='..'; python ../pipelines/pipeline_xgboost_modis_2004_2005.py --img_dir=../data/tifs\""
   ]
  }
 ],
 "metadata": {
  "kernelspec": {
   "display_name": "Python 3 (ipykernel)",
   "language": "python",
   "name": "python3"
  },
  "language_info": {
   "codemirror_mode": {
    "name": "ipython",
    "version": 3
   },
   "file_extension": ".py",
   "mimetype": "text/x-python",
   "name": "python",
   "nbconvert_exporter": "python",
   "pygments_lexer": "ipython3",
   "version": "3.9.15"
  }
 },
 "nbformat": 4,
 "nbformat_minor": 1
}
