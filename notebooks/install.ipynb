{
 "cells": [
  {
   "cell_type": "markdown",
   "metadata": {},
   "source": [
    "# Installation guidelines\n",
    "-----------------------------------"
   ]
  },
  {
   "cell_type": "markdown",
   "metadata": {},
   "source": [
    "There are many ways to prepare and set up your workspace. We mostly prefer to create an anaconda environment and install all packages there. You can find many distributions (say, forks) of the Anaconda package manager. The most well-known are \n",
    "\n",
    "* [**Anaconda**](https://www.anaconda.com)\n",
    "* [**Miniconda**](https://docs.conda.io/en/latest/miniconda.htm)\n",
    "\n",
    "We think, there are some advantages to using these package managers. They are cross-platform and very nice for handling virtual environments, not only for Python. They also support C or C++ libraries, Rust, and libraries and modules written in other popular programming languages. \n",
    "\n",
    "Feel free to use [**mamba**](https://mamba.readthedocs.io/en/latest/index.html) - formerly a fork of the Anaconda project. There are no disadvantages to using mamba instead of conda. However, please consider that mamba is a relatively new project (started in 2019). Thus, check [troubleshooting page](https://mamba.readthedocs.io/en/latest/user_guide/troubleshooting.html) or [issues](https://github.com/mamba-org/mamba/issues) on GitHub before you decide to use it.\n",
    "\n",
    "Since we have more experiences with conda, the following tutorial is only for using this package manager."
   ]
  },
  {
   "cell_type": "markdown",
   "metadata": {},
   "source": [
    "## Creating conda environment"
   ]
  },
  {
   "cell_type": "markdown",
   "metadata": {},
   "source": [
    "Using binaries on the Anaconda or miniconda pages, please install the package manager on your computer. The module mlfire works fine with all versions of Python 3, there are no limitations (or we do not know about them). However, we highly recommend using one of the latest versions of Python, beginning from 3.9 to 3.11."
   ]
  },
  {
   "cell_type": "markdown",
   "metadata": {},
   "source": [
    "After the installation, clone this repo using git that supports LFS (Large File Storage) extension because images (mostly GeoTIFFs) are compressed using it. You can find some information about LFS and its installation on the page https://git-lfs.com. **Recall for Windows users, the LFS extension is included in the Windows distribution of Git.**"
   ]
  },
  {
   "cell_type": "markdown",
   "metadata": {},
   "source": [
    "You can create an environment by running the box below or by your way in a terminal."
   ]
  },
  {
   "cell_type": "code",
   "execution_count": null,
   "metadata": {},
   "outputs": [],
   "source": [
    "!conda create -n env-mlfire python=3.9 --yes"
   ]
  },
  {
   "cell_type": "markdown",
   "metadata": {},
   "source": [
    "Don't forget to activate the environment and, then, install the required packages as follows:"
   ]
  },
  {
   "cell_type": "code",
   "execution_count": null,
   "metadata": {},
   "outputs": [],
   "source": [
    "!conda activate env-mlfire\n",
    "!conda install -c conda-forge --file ../requirements.txt --yes"
   ]
  },
  {
   "cell_type": "markdown",
   "metadata": {},
   "source": [
    "**That's all folks. Your environment is ready to fun.**"
   ]
  },
  {
   "cell_type": "markdown",
   "metadata": {},
   "source": [
    "## Running pipelines"
   ]
  },
  {
   "cell_type": "markdown",
   "metadata": {},
   "source": [
    "We did some examples in the jupyter notebooks, see here"
   ]
  },
  {
   "cell_type": "code",
   "execution_count": 1,
   "metadata": {},
   "outputs": [
    {
     "name": "stdout",
     "output_type": "stream",
     "text": [
      "install.ipynb     pca_example.ipynb\r\n"
     ]
    }
   ],
   "source": [
    "!ls ."
   ]
  },
  {
   "cell_type": "markdown",
   "metadata": {},
   "source": [
    "We also draw up examples of end-to-end pipelines in the following folder:"
   ]
  },
  {
   "cell_type": "code",
   "execution_count": 2,
   "metadata": {},
   "outputs": [
    {
     "name": "stdout",
     "output_type": "stream",
     "text": [
      "pipeline_xgboost_modis_2004_2005.py\r\n"
     ]
    }
   ],
   "source": [
    "!ls ../pipelines"
   ]
  },
  {
   "cell_type": "markdown",
   "metadata": {},
   "source": [
    "You can try a pipiline implemented in **pipeline_xgboost_modis_2004_2005.py** out by running a command in a box below"
   ]
  },
  {
   "cell_type": "markdown",
   "metadata": {},
   "source": [
    "### For Linux and macOS users"
   ]
  },
  {
   "cell_type": "code",
   "execution_count": 3,
   "metadata": {},
   "outputs": [
    {
     "name": "stdout",
     "output_type": "stream",
     "text": [
      "Start event: 'Processing band dates (satellite images, modis, reflectance)'.\n",
      "Finnish event: 'Processing band dates (satellite images, modis, reflectance)'. It takes 0.05s.\n",
      "Data set start date 2004-01-01\n",
      "Data set end date 2005-12-27\n",
      "Start event: 'Processing band dates (labels, MTBS)'.\n",
      "Finnish event: 'Processing band dates (labels, MTBS)'. It takes 0.00s.\n",
      "Start event: 'Processing fire labels (MTBS)'.\n",
      "Finnish event: 'Processing fire labels (MTBS)'. It takes 0.00s.\n",
      "Start event: 'Processing multi spectral bands (satellite images, modis, reflectance)'.\n",
      "Finnish event: 'Processing multi spectral bands (satellite images, modis, reflectance)'. It takes 0.01s.\n",
      "PCA cumsum test, found explainable 60 latent factors\n",
      "PCA cumsum test, found explainable 71 latent factors\n",
      "PCA cumsum test, found explainable 56 latent factors\n",
      "PCA cumsum test, found explainable 59 latent factors\n",
      "PCA cumsum test, found explainable 73 latent factors\n",
      "PCA cumsum test, found explainable 72 latent factors\n",
      "PCA cumsum test, found explainable 71 latent factors\n",
      "Start event: 'Training XGBoost model'.\n",
      "Finnish event: 'Training XGBoost model'. It takes 42.12s.\n",
      "Classification report:\n",
      "\n",
      "              precision    recall  f1-score   support\n",
      "\n",
      "         0.0       0.98      0.98      0.98     29444\n",
      "         1.0       0.89      0.91      0.90      5585\n",
      "\n",
      "    accuracy                           0.97     35029\n",
      "   macro avg       0.94      0.95      0.94     35029\n",
      "weighted avg       0.97      0.97      0.97     35029\n",
      "\n",
      "\n",
      "Classification report (imbalanced):\n",
      "\n",
      "                   pre       rec       spe        f1       geo       iba       sup\n",
      "\n",
      "        0.0       0.98      0.98      0.91      0.98      0.94      0.90     29444\n",
      "        1.0       0.89      0.91      0.98      0.90      0.94      0.89      5585\n",
      "\n",
      "avg / total       0.97      0.97      0.92      0.97      0.94      0.90     35029\n",
      "\n",
      "Figure(640x480)\n",
      "Classification report:\n",
      "\n",
      "              precision    recall  f1-score   support\n",
      "\n",
      "         0.0       0.98      0.99      0.99     17223\n",
      "         1.0       0.83      0.62      0.71       717\n",
      "\n",
      "    accuracy                           0.98     17940\n",
      "   macro avg       0.91      0.81      0.85     17940\n",
      "weighted avg       0.98      0.98      0.98     17940\n",
      "\n",
      "\n",
      "Classification report (imbalanced):\n",
      "\n",
      "                   pre       rec       spe        f1       geo       iba       sup\n",
      "\n",
      "        0.0       0.98      0.99      0.62      0.99      0.79      0.64     17223\n",
      "        1.0       0.83      0.62      0.99      0.71      0.79      0.59       717\n",
      "\n",
      "avg / total       0.98      0.98      0.64      0.98      0.79      0.64     17940\n",
      "\n",
      "Figure(640x480)\n"
     ]
    }
   ],
   "source": [
    "!PYTHONPATH=..:$PYTHONPATH python ../pipelines/pipeline_xgboost_modis_2004_2005.py"
   ]
  },
  {
   "cell_type": "markdown",
   "metadata": {},
   "source": [
    "### For Windows users"
   ]
  },
  {
   "cell_type": "code",
   "execution_count": null,
   "metadata": {},
   "outputs": [],
   "source": [
    "!Powershell.exe -Command \"$env:PYTHONPATH='..'; python ../pipelines/pipeline_xgboost_modis_2004_2005.py\""
   ]
  }
 ],
 "metadata": {
  "kernelspec": {
   "display_name": "Python 3 (ipykernel)",
   "language": "python",
   "name": "python3"
  },
  "language_info": {
   "codemirror_mode": {
    "name": "ipython",
    "version": 3
   },
   "file_extension": ".py",
   "mimetype": "text/x-python",
   "name": "python",
   "nbconvert_exporter": "python",
   "pygments_lexer": "ipython3",
   "version": "3.9.15"
  }
 },
 "nbformat": 4,
 "nbformat_minor": 1
}
